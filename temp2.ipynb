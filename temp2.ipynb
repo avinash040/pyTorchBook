{
 "cells": [
  {
   "cell_type": "code",
   "execution_count": 12,
   "metadata": {},
   "outputs": [
    {
     "name": "stdout",
     "output_type": "stream",
     "text": [
      "['Chatbot', '__builtins__', '__cached__', '__doc__', '__file__', '__loader__', '__name__', '__package__', '__spec__', 'json', 'requests', 'uuid']\n",
      "<class 'module'>\n",
      "I'm just a computer program, so I don't have feelings or emotions like a human. I'm here to help answer your questions to the best of my abilities. Is there something you would like to ask?\n",
      "a5af0395-3d4e-4afa-99ce-2a5e1e38b4cc\n",
      "533242ed-ae95-4581-8185-2dd80e56c331\n",
      "{'message': \"I'm just a computer program, so I don't have feelings or emotions like a human. I'm here to help answer your questions to the best of my abilities. Is there something you would like to ask?\", 'conversation_id': 'a5af0395-3d4e-4afa-99ce-2a5e1e38b4cc', 'parent_id': '533242ed-ae95-4581-8185-2dd80e56c331'}\n"
     ]
    }
   ],
   "source": [
    "from ChatGPT import revChatGPT as revChatGPT\n",
    "import json\n",
    "\n",
    "# Get your config in JSON\n",
    "config = {\n",
    "        \"Authorization\": \"eyJhbGciOiJSUzI1NiIsInR5cCI6IkpXVCIsImtpZCI6Ik1UaEVOVUpHTkVNMVFURTRNMEZCTWpkQ05UZzVNRFUxUlRVd1FVSkRNRU13UmtGRVFrRXpSZyJ9.eyJodHRwczovL2FwaS5vcGVuYWkuY29tL2F1dGgiOnsidXNlcl9pZCI6InVzZXItV3JtWFJmSklqVmx1S2tQdjlHck1yU3VWIn0sImlzcyI6Imh0dHBzOi8vYXV0aDAub3BlbmFpLmNvbS8iLCJzdWIiOiJhdXRoMHw2Mzg4NDBhNjllZGQwMDVmZjQ2OGQ1ZTAiLCJhdWQiOlsiaHR0cHM6Ly9hcGkub3BlbmFpLmNvbS92MSIsImh0dHBzOi8vb3BlbmFpLmF1dGgwLmNvbS91c2VyaW5mbyJdLCJpYXQiOjE2NzAxMjUyMzQsImV4cCI6MTY3MDEzMjQzNCwiYXpwIjoiVGRKSWNiZTE2V29USHROOTVueXl3aDVFNHlPbzZJdEciLCJzY29wZSI6Im9wZW5pZCBlbWFpbCBwcm9maWxlIG1vZGVsLnJlYWQgbW9kZWwucmVxdWVzdCBvcmdhbml6YXRpb24ucmVhZCBvZmZsaW5lX2FjY2VzcyJ9.VkBaTT-xezdrri8EIuCPZgIK7JJ_oJHZr_FHYHxYXrSH3RuLs8WaGUKVrVq6PvUS2GSWpsQz8H0Oye1QVgDB_pxlS-IhhApUt9-lkplxlDGnPbvfSR5JAE4V4UUrT3cPFZ50isnqWuLfFBgmynG53j9SKq9MhvaMnu6Gsw4fnH0FjDQCn28d6Myv2gAw1huYZQadKglzUYMt6BYpy2B70X0ZpLYItwFncjzogCiOY-U7g_5mIhSswmkO_4gA2bOwbXBlWUAwqoP4CPmLkUYCsMAU5Mz8F4ospHBjx44NDsARf2WAmFEjG0A-JLW0GnNFd6sML3Hlu9a58pPWQsnjUg\"\n",
    "    }\n",
    "print(dir(revChatGPT))    \n",
    "print(type(revChatGPT))\n",
    "chatbot = revChatGPT.Chatbot(config, conversation_id=None)\n",
    "prompt = \"How are you?\"\n",
    "response = chatbot.get_chat_response(prompt)\n",
    "print(response[\"message\"])\n",
    "print(response[\"conversation_id\"])\n",
    "print(response[\"parent_id\"])\n",
    "print(response)\n"
   ]
  },
  {
   "cell_type": "code",
   "execution_count": null,
   "metadata": {},
   "outputs": [],
   "source": []
  }
 ],
 "metadata": {
  "kernelspec": {
   "display_name": "Python 3.10.1 64-bit",
   "language": "python",
   "name": "python3"
  },
  "language_info": {
   "codemirror_mode": {
    "name": "ipython",
    "version": 3
   },
   "file_extension": ".py",
   "mimetype": "text/x-python",
   "name": "python",
   "nbconvert_exporter": "python",
   "pygments_lexer": "ipython3",
   "version": "3.10.1"
  },
  "orig_nbformat": 4,
  "vscode": {
   "interpreter": {
    "hash": "92d9b60e957e3d750d4d1bf53089230f7a11c83733fec4e759a73e0ebfa58d9c"
   }
  }
 },
 "nbformat": 4,
 "nbformat_minor": 2
}
