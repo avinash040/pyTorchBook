{
 "cells": [
  {
   "cell_type": "code",
   "execution_count": 2,
   "metadata": {},
   "outputs": [],
   "source": [
    "import torch\n",
    "a = torch.ones(3)"
   ]
  },
  {
   "cell_type": "code",
   "execution_count": null,
   "metadata": {},
   "outputs": [],
   "source": [
    "#creation ops \n",
    "a = torch.tensor([2., 3., 4.])\n",
    "help(a.transpose)\n",
    "help(torch.transpose)"
   ]
  },
  {
   "cell_type": "code",
   "execution_count": null,
   "metadata": {},
   "outputs": [],
   "source": [
    "b = a[0:-1]\n",
    "c = max(b)\n",
    "float(c)\n",
    "#dir(a)\n",
    "a.storage()"
   ]
  },
  {
   "cell_type": "code",
   "execution_count": 27,
   "metadata": {},
   "outputs": [
    {
     "data": {
      "text/plain": [
       "(1,)"
      ]
     },
     "execution_count": 27,
     "metadata": {},
     "output_type": "execute_result"
    }
   ],
   "source": [
    "x = torch.tensor([[1, 2, 3, 8],[ 9, 4, 5, 6],[1,2,3,4]])\n",
    "y = x[2]\n",
    "y.storage_offset()\n",
    "y.stride()\n",
    "#y.size()\n",
    "#y.shape()"
   ]
  },
  {
   "cell_type": "markdown",
   "metadata": {},
   "source": [
    "Accessing an element i, j in a 2D tensor results in accessing the storage_offset +\n",
    "stride[0] * i + stride[1] * j element in the storage"
   ]
  },
  {
   "cell_type": "code",
   "execution_count": null,
   "metadata": {},
   "outputs": [],
   "source": [
    "a = torch.tensor(list(range(9)))\n",
    "b = a.view(3,3)\n",
    "b\n",
    "print(a.storage())\n",
    "print(b.storage())\n",
    "\n"
   ]
  },
  {
   "cell_type": "code",
   "execution_count": null,
   "metadata": {},
   "outputs": [],
   "source": [
    "torch.square(a)\n"
   ]
  }
 ],
 "metadata": {
  "kernelspec": {
   "display_name": "Python 3.9.13 ('base')",
   "language": "python",
   "name": "python3"
  },
  "language_info": {
   "codemirror_mode": {
    "name": "ipython",
    "version": 3
   },
   "file_extension": ".py",
   "mimetype": "text/x-python",
   "name": "python",
   "nbconvert_exporter": "python",
   "pygments_lexer": "ipython3",
   "version": "3.9.13"
  },
  "orig_nbformat": 4,
  "vscode": {
   "interpreter": {
    "hash": "02ff38a1286927bbe24258163db209264e05ff1c11132a1ea534cdbab0c52c20"
   }
  }
 },
 "nbformat": 4,
 "nbformat_minor": 2
}
